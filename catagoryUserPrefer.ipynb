{
 "cells": [
  {
   "cell_type": "markdown",
   "id": "45b5c13f",
   "metadata": {},
   "source": [
    "카테고리별 사용자 선호도 및 연관 구매 분석\n",
    "\n",
    "    - 목적: 상품군별 선호도 및 함께 자주 구매되는 조합 분석 (장바구니 분석)\n",
    "\n",
    "    - 활용 테이블: order_products__prior, products, departments, aisles\n",
    "\n",
    "    - 분석지표 예시:\n",
    "        * 상위 5개 부서/aisle별 인기 상품\n",
    "        * 함께 자주 구매된 제품 쌍 (연관규칙 분석 기반)\n",
    "        * 특정 부서 상품을 구매하는 사용자 비율"
   ]
  },
  {
   "cell_type": "markdown",
   "id": "862f3107",
   "metadata": {},
   "source": [
    "event_log 테이블 생성"
   ]
  },
  {
   "cell_type": "code",
   "execution_count": 5,
   "id": "7592f6a5",
   "metadata": {},
   "outputs": [
    {
     "name": "stdout",
     "output_type": "stream",
     "text": [
      "✅ event_log 테이블 생성 및 데이터 삽입 완료!\n",
      "            event_time  user_id      session_id event_type  product_id  \\\n",
      "0  2025-05-22 13:57:36     1004  session_1004_1      click           8   \n",
      "1  2025-05-21 23:31:36     1003  session_1003_1      click           8   \n",
      "2  2025-05-22 01:28:36     1002  session_1002_4   purchase           8   \n",
      "3  2025-05-22 17:31:36     1004  session_1004_1       view           5   \n",
      "4  2025-05-22 10:04:36     1004  session_1004_1      click           9   \n",
      "\n",
      "             page  \n",
      "0          search  \n",
      "1  product_detail  \n",
      "2          search  \n",
      "3          search  \n",
      "4  product_detail  \n"
     ]
    }
   ],
   "source": [
    "import sqlite3\n",
    "import pandas as pd\n",
    "import numpy as np\n",
    "from datetime import datetime, timedelta\n",
    "\n",
    "# 1. SQLite DB 연결\n",
    "conn = sqlite3.connect(\"database.db\")\n",
    "cursor = conn.cursor()\n",
    "\n",
    "# 2. event_log 테이블 생성 (외래키 없이)\n",
    "cursor.execute(\"\"\"\n",
    "CREATE TABLE IF NOT EXISTS event_log (\n",
    "    event_time TEXT,\n",
    "    user_id INTEGER,\n",
    "    session_id TEXT,\n",
    "    event_type TEXT,\n",
    "    product_id INTEGER,\n",
    "    page TEXT\n",
    ");\n",
    "\"\"\")\n",
    "conn.commit()\n",
    "\n",
    "# 3. 샘플 데이터 생성 (주의: product_id는 products에 존재하는 값으로 대체하는 것이 안전)\n",
    "np.random.seed(42)\n",
    "\n",
    "users = [1001, 1002, 1003, 1004, 1005]\n",
    "products = list(range(1, 11))  # 실제 존재하는 product_id여야 join 시 오류 없음\n",
    "events = ['view', 'click', 'add_to_cart', 'purchase']\n",
    "pages = ['home', 'search', 'product_detail']\n",
    "\n",
    "event_data = []\n",
    "for _ in range(500):\n",
    "    user = np.random.choice(users)\n",
    "    product = np.random.choice(products)\n",
    "    session = f\"session_{user}_{np.random.randint(1, 5)}\"\n",
    "    event = np.random.choice(events, p=[0.4, 0.3, 0.2, 0.1])\n",
    "    page = np.random.choice(pages)\n",
    "    time = datetime.now() - timedelta(minutes=np.random.randint(0, 1440))\n",
    "    event_data.append([time.strftime('%Y-%m-%d %H:%M:%S'), user, session, event, product, page])\n",
    "\n",
    "event_log_df = pd.DataFrame(event_data, columns=[\n",
    "    'event_time', 'user_id', 'session_id', 'event_type', 'product_id', 'page'\n",
    "])\n",
    "\n",
    "# 4. 데이터 삽입\n",
    "try:\n",
    "    event_log_df.to_sql(\"event_log\", conn, if_exists='append', index=False)\n",
    "    print(\"✅ event_log 테이블 생성 및 데이터 삽입 완료!\")\n",
    "except Exception as e:\n",
    "    print(\"❌ 삽입 중 오류 발생:\", e)\n",
    "\n",
    "# 5. 미리보기\n",
    "preview = pd.read_sql(\"SELECT * FROM event_log LIMIT 5\", conn)\n",
    "print(preview)\n"
   ]
  },
  {
   "cell_type": "markdown",
   "id": "973dbb6a",
   "metadata": {},
   "source": [
    "event_log.csv파일 insert"
   ]
  },
  {
   "cell_type": "code",
   "execution_count": 8,
   "id": "9cb3648a",
   "metadata": {},
   "outputs": [
    {
     "name": "stdout",
     "output_type": "stream",
     "text": [
      "✅ event_log 테이블에 CSV 데이터 삽입 완료!\n",
      "            event_time  user_id      session_id event_type  product_id  \\\n",
      "0  2025-05-22 13:57:36     1004  session_1004_1      click           8   \n",
      "1  2025-05-21 23:31:36     1003  session_1003_1      click           8   \n",
      "2  2025-05-22 01:28:36     1002  session_1002_4   purchase           8   \n",
      "3  2025-05-22 17:31:36     1004  session_1004_1       view           5   \n",
      "4  2025-05-22 10:04:36     1004  session_1004_1      click           9   \n",
      "\n",
      "             page  \n",
      "0          search  \n",
      "1  product_detail  \n",
      "2          search  \n",
      "3          search  \n",
      "4  product_detail  \n"
     ]
    }
   ],
   "source": [
    "import sqlite3\n",
    "import pandas as pd\n",
    "\n",
    "# 1. CSV 파일 경로\n",
    "csv_path = \"/Users/marinhong/ARCHIVE/event_log.csv\"\n",
    "\n",
    "# 2. 데이터프레임으로 불러오기\n",
    "event_log_df = pd.read_csv(csv_path)\n",
    "\n",
    "# 3. SQLite DB 연결\n",
    "conn = sqlite3.connect(\"database.db\")\n",
    "cursor = conn.cursor()\n",
    "\n",
    "# 5. 데이터 삽입\n",
    "try:\n",
    "    event_log_df.to_sql(\"event_log\", conn, if_exists=\"append\", index=False)\n",
    "    print(\"✅ event_log 테이블에 CSV 데이터 삽입 완료!\")\n",
    "except Exception as e:\n",
    "    print(\"❌ 데이터 삽입 중 오류 발생:\", e)\n",
    "\n",
    "# 6. 삽입 확인 (상위 5개 행)\n",
    "preview = pd.read_sql(\"SELECT * FROM event_log LIMIT 5;\", conn)\n",
    "print(preview)\n",
    "\n",
    "# 연결 유지 또는 종료\n",
    "# conn.close()\n"
   ]
  },
  {
   "cell_type": "code",
   "execution_count": 13,
   "id": "57d3c1db",
   "metadata": {},
   "outputs": [
    {
     "name": "stdout",
     "output_type": "stream",
     "text": [
      "📊 event_log 테이블의 총 데이터 수: 2000개\n"
     ]
    }
   ],
   "source": [
    "import sqlite3\n",
    "\n",
    "# SQLite 데이터베이스 연결\n",
    "conn = sqlite3.connect(\"database.db\")\n",
    "cursor = conn.cursor()\n",
    "\n",
    "# 행 수 조회 쿼리 실행\n",
    "cursor.execute(\"SELECT COUNT(*) FROM event_log;\")\n",
    "row_count = cursor.fetchone()[0]\n",
    "\n",
    "# 결과 출력\n",
    "print(f\"📊 event_log 테이블의 총 데이터 수: {row_count}개\")\n",
    "\n",
    "# 연결 유지 또는 종료 (선택)\n",
    "# conn.close()"
   ]
  },
  {
   "cell_type": "markdown",
   "id": "e4ca5ff0",
   "metadata": {},
   "source": [
    "clickstream으로 시각화"
   ]
  },
  {
   "cell_type": "code",
   "execution_count": 1,
   "id": "9e116d58",
   "metadata": {},
   "outputs": [
    {
     "name": "stdout",
     "output_type": "stream",
     "text": [
      "📋 현재 DB에 존재하는 테이블 목록:\n",
      "- products\n",
      "- orders\n",
      "- order_products__train\n",
      "- departments\n",
      "- aisles\n",
      "- order_products__prior\n",
      "- event_log\n"
     ]
    }
   ],
   "source": [
    "import sqlite3\n",
    "\n",
    "conn = sqlite3.connect('database.db')\n",
    "cursor = conn.cursor()\n",
    "\n",
    "# 테이블 목록 출력\n",
    "cursor.execute(\"SELECT name FROM sqlite_master WHERE type='table';\")\n",
    "tables = cursor.fetchall()\n",
    "\n",
    "print(\"📋 현재 DB에 존재하는 테이블 목록:\")\n",
    "for table in tables:\n",
    "    print(\"-\", table[0])\n"
   ]
  },
  {
   "cell_type": "code",
   "execution_count": null,
   "id": "bd63ce70",
   "metadata": {},
   "outputs": [
    {
     "data": {
      "image/png": "[encoded data removed]",
      "text/plain": [
       "<Figure size 800x600 with 1 Axes>"
      ]
     },
     "metadata": {},
     "output_type": "display_data"
    }
   ],
   "source": [
    "import sqlite3\n",
    "import pandas as pd\n",
    "import matplotlib.pyplot as plt\n",
    "\n",
    "# DB 연결\n",
    "conn = sqlite3.connect('database.db')\n",
    "\n",
    "# 클릭, 장바구니, 구매 개수 추출\n",
    "clicks = pd.read_sql_query(\"SELECT COUNT(*) FROM event_log WHERE event_type = 'click'\", conn).iloc[0, 0]\n",
    "carts = pd.read_sql_query(\"SELECT COUNT(*) FROM event_log WHERE event_type = 'cart'\", conn).iloc[0, 0]\n",
    "purchases = pd.read_sql_query(\"\"\"\n",
    "    SELECT COUNT(*) FROM orders \n",
    "    JOIN order_products__prior op ON orders.order_id = op.order_id \n",
    "    WHERE orders.eval_set = 'prior'\n",
    "\"\"\", conn).iloc[0, 0]\n",
    "\n",
    "# DataFrame 생성\n",
    "funnel_df = pd.DataFrame({\n",
    "    'click': [clicks],\n",
    "    'cart': [carts],\n",
    "    'purchase': [purchases]\n",
    "}, index=['count'])\n",
    "\n",
    "# 퍼널 시각화\n",
    "plt.figure(figsize=(8, 6))\n",
    "funnel_df.loc['count'].plot(kind='bar', color=['skyblue', 'orange', 'green'])\n",
    "plt.title(\"User Clickstream Funnel (Click → Cart → Purchase)\")\n",
    "plt.xlabel(\"Event Type\")\n",
    "plt.ylabel(\"Event Count\")\n",
    "plt.xticks(rotation=0)\n",
    "plt.tight_layout()\n",
    "plt.show()\n"
   ]
  },
  {
   "cell_type": "code",
   "execution_count": 6,
   "id": "484785cb",
   "metadata": {},
   "outputs": [
    {
     "data": {
      "image/png": "[encoded data removed]",
      "text/plain": [
       "<Figure size 800x600 with 1 Axes>"
      ]
     },
     "metadata": {},
     "output_type": "display_data"
    }
   ],
   "source": [
    "import sqlite3\n",
    "import pandas as pd\n",
    "import matplotlib.pyplot as plt\n",
    "import matplotlib.font_manager as fm\n",
    "import platform\n",
    "\n",
    "\n",
    "# Mac 사용자라면 AppleGothic 사용\n",
    "if platform.system() == 'Darwin':\n",
    "    plt.rcParams['font.family'] = 'AppleGothic'\n",
    "\n",
    "# 마이너스 깨짐 방지\n",
    "plt.rcParams['axes.unicode_minus'] = False\n",
    "\n",
    "# DB 연결\n",
    "conn = sqlite3.connect('database.db')\n",
    "\n",
    "# 👇 직접 유저 ID 수동 정의 (예시: 실제 event_log 참여자 ID가 1~2500 사이인 경우)\n",
    "user_ids = tuple(range(1, 2501))\n",
    "\n",
    "# 클릭 수 (총 2500건으로 가정)\n",
    "clicks = 1500\n",
    "carts = 900\n",
    "\n",
    "# 구매 수 (해당 유저 ID만 필터링)\n",
    "query = f\"\"\"\n",
    "    SELECT COUNT(*) as count\n",
    "    FROM orders\n",
    "    JOIN order_products__prior op ON orders.order_id = op.order_id\n",
    "    WHERE orders.eval_set = 'prior'\n",
    "    AND orders.user_id IN {user_ids}\n",
    "\"\"\"\n",
    "purchases = pd.read_sql_query(query, conn).iloc[0, 0]\n",
    "\n",
    "# 퍼널 데이터프레임\n",
    "funnel_df = pd.DataFrame({\n",
    "    'click': [clicks],\n",
    "    'cart': [carts],\n",
    "    'purchase': [purchases]\n",
    "}, index=['count'])\n",
    "\n",
    "# 시각화\n",
    "plt.figure(figsize=(8, 6))\n",
    "funnel_df.loc['count'].plot(kind='bar', color=['skyblue', 'orange', 'green'])\n",
    "plt.title(\"User Clickstream Funnel (event_log 참여자 기준)\")\n",
    "plt.xlabel(\"Event Type\")\n",
    "plt.ylabel(\"Event Count\")\n",
    "plt.xticks(rotation=0)\n",
    "plt.tight_layout()\n",
    "plt.show()\n"
   ]
  },
  {
   "cell_type": "markdown",
   "id": "ad003028",
   "metadata": {},
   "source": [
    "merge, fillna, drop_duplicates로 데이터 정제 및 처리\n",
    "\n",
    "* purchase가 너무 나와 click과 cart의 분석을 하기 어려움\n",
    "\n",
    "    - event_log에서 click, cart 사용자별 집합을 추출 (중복제거)\n",
    "    - orders + order_products__prior에서 purchase 사용자 집합 추출\n",
    "    - 3개 집합을 merge(outer join) 하여 존재하지 않는 부분은 fillna(0) 처리\n",
    "    - 각 단계별 사용자 수 집계 (각 컬럼은 1 또는 0으로 표시)\n",
    "    - 단계별 사용자 수를 막대그래프로 시각화"
   ]
  },
  {
   "cell_type": "code",
   "execution_count": 17,
   "id": "87021f56",
   "metadata": {},
   "outputs": [
    {
     "data": {
      "image/png": "[encoded data removed]",
      "text/plain": [
       "<Figure size 800x600 with 1 Axes>"
      ]
     },
     "metadata": {},
     "output_type": "display_data"
    }
   ],
   "source": [
    "import sqlite3\n",
    "import pandas as pd\n",
    "import matplotlib.pyplot as plt\n",
    "import platform\n",
    "\n",
    "# 한글 폰트 설정\n",
    "if platform.system() == 'Darwin':\n",
    "    plt.rcParams['font.family'] = 'AppleGothic'\n",
    "elif platform.system() == 'Windows':\n",
    "    plt.rcParams['font.family'] = 'Malgun Gothic'\n",
    "else:\n",
    "    plt.rcParams['font.family'] = 'NanumGothic'\n",
    "plt.rcParams['axes.unicode_minus'] = False\n",
    "\n",
    "conn = sqlite3.connect('database.db')\n",
    "\n",
    "# 1. event_log에서 click, cart 사용자 집합 생성\n",
    "click_users = pd.read_sql_query(\"SELECT DISTINCT user_id FROM event_log WHERE event_type='click'\", conn)\n",
    "click_users['click'] = 1\n",
    "\n",
    "cart_users = pd.read_sql_query(\"SELECT DISTINCT user_id FROM event_log WHERE event_type='cart'\", conn)\n",
    "cart_users['cart'] = 1\n",
    "\n",
    "# 2. 구매 사용자 집합 생성 (prior 데이터 기준)\n",
    "purchase_users = pd.read_sql_query(\"\"\"\n",
    "    SELECT DISTINCT orders.user_id FROM orders\n",
    "    JOIN order_products__prior op ON orders.order_id = op.order_id\n",
    "    WHERE orders.eval_set = 'prior'\n",
    "\"\"\", conn)\n",
    "purchase_users['purchase'] = 1\n",
    "\n",
    "# 3. user_id가 문자열에 접두어가 있을 경우 숫자만 추출\n",
    "click_users['user_id'] = click_users['user_id'].astype(str).str.extract('(\\d+)').astype(int)\n",
    "cart_users['user_id'] = cart_users['user_id'].astype(str).str.extract('(\\d+)').astype(int)\n",
    "purchase_users['user_id'] = purchase_users['user_id'].astype(str).str.extract('(\\d+)').astype(int)\n",
    "\n",
    "# 4. 3개 데이터프레임 병합 (outer join)\n",
    "df_merge = pd.merge(click_users, cart_users, on='user_id', how='outer')\n",
    "df_merge = pd.merge(df_merge, purchase_users, on='user_id', how='outer')\n",
    "\n",
    "# 5. 결측값 0으로 채우기\n",
    "df_merge = df_merge.fillna(0)\n",
    "\n",
    "# 6. 단계별 사용자 수 계산\n",
    "counts = {\n",
    "    'click': df_merge['click'].sum(),\n",
    "    'cart': df_merge['cart'].sum(),\n",
    "    'purchase': df_merge['purchase'].sum()\n",
    "}\n",
    "\n",
    "funnel_df = pd.DataFrame([counts], index=['count'])\n",
    "\n",
    "# 7. 시각화\n",
    "plt.figure(figsize=(8, 6))\n",
    "funnel_df.loc['count'].plot(kind='bar', color=['skyblue', 'orange', 'green'])\n",
    "plt.title(\"사용자 클릭스트림 퍼널 (단계별 사용자 기준)\")\n",
    "plt.xlabel(\"이벤트 유형\")\n",
    "plt.ylabel(\"사용자 수\")\n",
    "plt.xticks(rotation=0)\n",
    "plt.tight_layout()\n",
    "plt.show()\n",
    "\n",
    "\n"
   ]
  },
  {
   "cell_type": "markdown",
   "id": "41d1aa35",
   "metadata": {},
   "source": [
    "추가적인 데이터 insert"
   ]
  },
  {
   "cell_type": "code",
   "execution_count": 10,
   "id": "a3a2f58d",
   "metadata": {},
   "outputs": [
    {
     "name": "stdout",
     "output_type": "stream",
     "text": [
      "CSV 데이터를 event_log 테이블에 성공적으로 삽입했습니다.\n"
     ]
    }
   ],
   "source": [
    "import sqlite3\n",
    "import pandas as pd\n",
    "\n",
    "# CSV 파일 경로\n",
    "csv_file = '/Users/marinhong/ARCHIVE/sample_event_log.csv'  # 다운로드한 경로에 맞게 수정\n",
    "\n",
    "# SQLite DB 연결\n",
    "conn = sqlite3.connect('database.db')\n",
    "cursor = conn.cursor()\n",
    "\n",
    "# 1) CSV 파일 로드\n",
    "df = pd.read_csv(csv_file)\n",
    "\n",
    "# 2) 데이터 삽입 (bulk insert)\n",
    "df.to_sql('event_log', conn, if_exists='append', index=False)\n",
    "\n",
    "print(\"CSV 데이터를 event_log 테이블에 성공적으로 삽입했습니다.\")\n",
    "\n",
    "conn.close()\n"
   ]
  },
  {
   "cell_type": "code",
   "execution_count": 16,
   "id": "56c760dc",
   "metadata": {},
   "outputs": [
    {
     "name": "stdout",
     "output_type": "stream",
     "text": [
      "event_log 전체 데이터 수: 127500\n",
      "\n",
      "event_type별 데이터 수:\n",
      "    event_type  count\n",
      "0        click  88623\n",
      "1         cart  24912\n",
      "2     purchase  12786\n",
      "3         view    778\n",
      "4  add_to_cart    401\n"
     ]
    }
   ],
   "source": [
    "import sqlite3\n",
    "import pandas as pd\n",
    "\n",
    "conn = sqlite3.connect('database.db')\n",
    "\n",
    "# 전체 데이터 수 조회\n",
    "total_count = pd.read_sql_query(\"SELECT COUNT(*) AS total FROM event_log\", conn).iloc[0, 0]\n",
    "\n",
    "# event_type별 데이터 수 조회\n",
    "event_type_counts = pd.read_sql_query(\"\"\"\n",
    "    SELECT event_type, COUNT(*) AS count\n",
    "    FROM event_log\n",
    "    GROUP BY event_type\n",
    "    ORDER BY count DESC\n",
    "\"\"\", conn)\n",
    "\n",
    "print(f\"event_log 전체 데이터 수: {total_count}\")\n",
    "print(\"\\nevent_type별 데이터 수:\")\n",
    "print(event_type_counts)\n",
    "\n",
    "conn.close()\n"
   ]
  },
  {
   "cell_type": "code",
   "execution_count": 15,
   "id": "38bbd82c",
   "metadata": {},
   "outputs": [
    {
     "name": "stdout",
     "output_type": "stream",
     "text": [
      "CSV 데이터를 event_log 테이블에 성공적으로 삽입했습니다.\n"
     ]
    }
   ],
   "source": [
    "import sqlite3\n",
    "import pandas as pd\n",
    "\n",
    "# CSV 파일 경로\n",
    "csv_file = '/Users/marinhong/ARCHIVE/sample_event_log_200k.csv'  # 다운로드한 경로에 맞게 수정\n",
    "\n",
    "# SQLite DB 연결\n",
    "conn = sqlite3.connect('database.db')\n",
    "cursor = conn.cursor()\n",
    "\n",
    "# 1) CSV 파일 로드\n",
    "df = pd.read_csv(csv_file)\n",
    "\n",
    "# 2) 데이터 삽입 (bulk insert)\n",
    "df.to_sql('event_log', conn, if_exists='append', index=False)\n",
    "\n",
    "print(\"CSV 데이터를 event_log 테이블에 성공적으로 삽입했습니다.\")\n",
    "\n",
    "conn.close()"
   ]
  },
  {
   "cell_type": "code",
   "execution_count": 19,
   "id": "5b03d001",
   "metadata": {},
   "outputs": [
    {
     "data": {
      "image/png": "[encoded data removed]",
      "text/plain": [
       "<Figure size 800x600 with 1 Axes>"
      ]
     },
     "metadata": {},
     "output_type": "display_data"
    }
   ],
   "source": [
    "import sqlite3\n",
    "import pandas as pd\n",
    "import matplotlib.pyplot as plt\n",
    "import platform\n",
    "\n",
    "# 한글 폰트 설정\n",
    "if platform.system() == 'Darwin':\n",
    "    plt.rcParams['font.family'] = 'AppleGothic'\n",
    "elif platform.system() == 'Windows':\n",
    "    plt.rcParams['font.family'] = 'Malgun Gothic'\n",
    "else:\n",
    "    plt.rcParams['font.family'] = 'NanumGothic'\n",
    "plt.rcParams['axes.unicode_minus'] = False\n",
    "\n",
    "conn = sqlite3.connect('database.db')\n",
    "\n",
    "# 1) user_id, event_type별로 이벤트 존재 유무 확인\n",
    "event_flags = pd.read_sql_query(\"\"\"\n",
    "    SELECT user_id,\n",
    "           MAX(CASE WHEN event_type = 'click' THEN 1 ELSE 0 END) AS click,\n",
    "           MAX(CASE WHEN event_type = 'cart' THEN 1 ELSE 0 END) AS cart,\n",
    "           MAX(CASE WHEN event_type = 'purchase' THEN 1 ELSE 0 END) AS purchase\n",
    "    FROM event_log\n",
    "    GROUP BY user_id\n",
    "\"\"\", conn)\n",
    "\n",
    "# 2) 각 이벤트별 사용자 수 집계\n",
    "counts = {\n",
    "    'click': event_flags['click'].sum(),\n",
    "    'cart': event_flags['cart'].sum(),\n",
    "    'purchase': event_flags['purchase'].sum()\n",
    "}\n",
    "\n",
    "funnel_df = pd.DataFrame([counts], index=['count'])\n",
    "\n",
    "# 3) 시각화\n",
    "plt.figure(figsize=(8, 6))\n",
    "funnel_df.loc['count'].plot(kind='bar', color=['skyblue', 'orange', 'green'])\n",
    "plt.title(\"사용자 클릭스트림 퍼널 (단계별 사용자 기준)\")\n",
    "plt.xlabel(\"이벤트 유형\")\n",
    "plt.ylabel(\"사용자 수\")\n",
    "plt.xticks(rotation=0)\n",
    "plt.tight_layout()\n",
    "plt.show()\n"
   ]
  }
 ],
 "metadata": {
  "kernelspec": {
   "display_name": ".venv",
   "language": "python",
   "name": "python3"
  },
  "language_info": {
   "codemirror_mode": {
    "name": "ipython",
    "version": 3
   },
   "file_extension": ".py",
   "mimetype": "text/x-python",
   "name": "python",
   "nbconvert_exporter": "python",
   "pygments_lexer": "ipython3",
   "version": "3.9.6"
  }
 },
 "nbformat": 4,
 "nbformat_minor": 5
}
